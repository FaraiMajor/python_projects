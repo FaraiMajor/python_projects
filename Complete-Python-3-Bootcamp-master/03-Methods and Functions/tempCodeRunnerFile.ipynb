for i in range(low, high +1):
        if num == i :
            return True
    return False